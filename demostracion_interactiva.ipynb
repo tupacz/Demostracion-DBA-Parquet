{
 "cells": [
  {
   "cell_type": "markdown",
   "id": "aa2c4cbe",
   "metadata": {},
   "source": [
    "# Demostración: CSV vs. Parquet\n",
    "\n",
    "En esta demostración, vamos a explorar las diferencias estructurales y de rendimiento entre el formato CSV tradicional y el formato columnar optimizado Apache Parquet.\n",
    "\n",
    "**Objetivos:**\n",
    "1. Visualizar la estructura de un archivo CSV.\n",
    "2. Convertir los datos a formato Parquet.\n",
    "3. Demostrar el concepto clave de \"lectura selectiva de columnas\" (Column Pruning) que hace a Parquet tan eficiente para Big Data."
   ]
  },
  {
   "cell_type": "code",
   "execution_count": 19,
   "id": "ad64f44b",
   "metadata": {},
   "outputs": [
    {
     "name": "stdout",
     "output_type": "stream",
     "text": [
      "Se cargaron 1000000 filas desde el archivo 'ventas_grandes.csv'.\n",
      "Mostrando las primeras 5 filas:\n"
     ]
    },
    {
     "data": {
      "text/html": [
       "<div>\n",
       "<style scoped>\n",
       "    .dataframe tbody tr th:only-of-type {\n",
       "        vertical-align: middle;\n",
       "    }\n",
       "\n",
       "    .dataframe tbody tr th {\n",
       "        vertical-align: top;\n",
       "    }\n",
       "\n",
       "    .dataframe thead th {\n",
       "        text-align: right;\n",
       "    }\n",
       "</style>\n",
       "<table border=\"1\" class=\"dataframe\">\n",
       "  <thead>\n",
       "    <tr style=\"text-align: right;\">\n",
       "      <th></th>\n",
       "      <th>ID_Venta</th>\n",
       "      <th>ID_Producto</th>\n",
       "      <th>Producto</th>\n",
       "      <th>Categoria</th>\n",
       "      <th>Precio_Unitario</th>\n",
       "      <th>Cantidad</th>\n",
       "      <th>Total_Venta</th>\n",
       "      <th>Fecha_Venta</th>\n",
       "      <th>Ciudad</th>\n",
       "      <th>Metodo_Pago</th>\n",
       "    </tr>\n",
       "  </thead>\n",
       "  <tbody>\n",
       "    <tr>\n",
       "      <th>0</th>\n",
       "      <td>10001</td>\n",
       "      <td>PROD_010</td>\n",
       "      <td>Mochila para Laptop</td>\n",
       "      <td>Accesorios</td>\n",
       "      <td>44.82</td>\n",
       "      <td>5</td>\n",
       "      <td>224.10</td>\n",
       "      <td>2024-07-10 21:58:45</td>\n",
       "      <td>Madrid</td>\n",
       "      <td>Tarjeta de Credito</td>\n",
       "    </tr>\n",
       "    <tr>\n",
       "      <th>1</th>\n",
       "      <td>10002</td>\n",
       "      <td>PROD_010</td>\n",
       "      <td>Mochila para Laptop</td>\n",
       "      <td>Accesorios</td>\n",
       "      <td>47.67</td>\n",
       "      <td>2</td>\n",
       "      <td>95.34</td>\n",
       "      <td>2025-06-23 09:58:45</td>\n",
       "      <td>Valencia</td>\n",
       "      <td>Bizum</td>\n",
       "    </tr>\n",
       "    <tr>\n",
       "      <th>2</th>\n",
       "      <td>10003</td>\n",
       "      <td>PROD_001</td>\n",
       "      <td>Laptop Pro X1</td>\n",
       "      <td>Electronica</td>\n",
       "      <td>1253.10</td>\n",
       "      <td>3</td>\n",
       "      <td>3759.30</td>\n",
       "      <td>2024-09-10 13:58:45</td>\n",
       "      <td>Sevilla</td>\n",
       "      <td>PayPal</td>\n",
       "    </tr>\n",
       "    <tr>\n",
       "      <th>3</th>\n",
       "      <td>10004</td>\n",
       "      <td>PROD_010</td>\n",
       "      <td>Mochila para Laptop</td>\n",
       "      <td>Accesorios</td>\n",
       "      <td>46.27</td>\n",
       "      <td>3</td>\n",
       "      <td>138.81</td>\n",
       "      <td>2024-08-17 04:58:45</td>\n",
       "      <td>Valencia</td>\n",
       "      <td>Tarjeta de Credito</td>\n",
       "    </tr>\n",
       "    <tr>\n",
       "      <th>4</th>\n",
       "      <td>10005</td>\n",
       "      <td>PROD_010</td>\n",
       "      <td>Mochila para Laptop</td>\n",
       "      <td>Accesorios</td>\n",
       "      <td>46.69</td>\n",
       "      <td>5</td>\n",
       "      <td>233.45</td>\n",
       "      <td>2024-12-23 12:58:45</td>\n",
       "      <td>Zaragoza</td>\n",
       "      <td>Tarjeta de Credito</td>\n",
       "    </tr>\n",
       "  </tbody>\n",
       "</table>\n",
       "</div>"
      ],
      "text/plain": [
       "   ID_Venta ID_Producto             Producto    Categoria  Precio_Unitario  \\\n",
       "0     10001    PROD_010  Mochila para Laptop   Accesorios            44.82   \n",
       "1     10002    PROD_010  Mochila para Laptop   Accesorios            47.67   \n",
       "2     10003    PROD_001        Laptop Pro X1  Electronica          1253.10   \n",
       "3     10004    PROD_010  Mochila para Laptop   Accesorios            46.27   \n",
       "4     10005    PROD_010  Mochila para Laptop   Accesorios            46.69   \n",
       "\n",
       "   Cantidad  Total_Venta          Fecha_Venta    Ciudad         Metodo_Pago  \n",
       "0         5       224.10  2024-07-10 21:58:45    Madrid  Tarjeta de Credito  \n",
       "1         2        95.34  2025-06-23 09:58:45  Valencia               Bizum  \n",
       "2         3      3759.30  2024-09-10 13:58:45   Sevilla              PayPal  \n",
       "3         3       138.81  2024-08-17 04:58:45  Valencia  Tarjeta de Credito  \n",
       "4         5       233.45  2024-12-23 12:58:45  Zaragoza  Tarjeta de Credito  "
      ]
     },
     "execution_count": 19,
     "metadata": {},
     "output_type": "execute_result"
    }
   ],
   "source": [
    "import pandas as pd\n",
    "import os\n",
    "\n",
    "# Nombre del archivo CSV\n",
    "nombre_csv = 'ventas_grandes.csv'\n",
    "\n",
    "# Leemos el archivo CSV y lo cargamos en un DataFrame de pandas\n",
    "df = pd.read_csv(nombre_csv)\n",
    "\n",
    "print(f\"Se cargaron {len(df)} filas desde el archivo '{nombre_csv}'.\")\n",
    "print(\"Mostrando las primeras 5 filas:\")\n",
    "df.head()"
   ]
  },
  {
   "cell_type": "markdown",
   "id": "4cc3d526",
   "metadata": {},
   "source": [
    "## Paso 2: Convertir a Parquet\n",
    "\n",
    "Ahora, vamos a guardar este DataFrame en formato Parquet. Este formato es binario y columnar, optimizado para el análisis de grandes volúmenes de datos."
   ]
  },
  {
   "cell_type": "code",
   "execution_count": 20,
   "id": "e5517fab",
   "metadata": {},
   "outputs": [
    {
     "name": "stdout",
     "output_type": "stream",
     "text": [
      "Archivo 'ventas_grandes.parquet' creado con éxito.\n"
     ]
    }
   ],
   "source": [
    "# Nombre del archivo Parquet\n",
    "nombre_parquet = 'ventas_grandes.parquet'\n",
    "\n",
    "# Guardamos el DataFrame en formato Parquet\n",
    "df.to_parquet(nombre_parquet)\n",
    "\n",
    "print(f\"Archivo '{nombre_parquet}' creado con éxito.\")"
   ]
  },
  {
   "cell_type": "markdown",
   "id": "32c04437",
   "metadata": {},
   "source": [
    "## Paso 3: Comparación de Tamaño de Archivo\n",
    "\n",
    "Una de las primeras ventajas de Parquet es su eficiencia en el almacenamiento gracias a la compresión avanzada. Comparemos los tamaños de ambos archivos."
   ]
  },
  {
   "cell_type": "code",
   "execution_count": 21,
   "id": "cdafaab6",
   "metadata": {},
   "outputs": [
    {
     "name": "stdout",
     "output_type": "stream",
     "text": [
      "Tamaño del archivo CSV: 98279.27 KB\n",
      "Tamaño del archivo Parquet: 16716.75 KB\n",
      "El archivo Parquet es un 82.99% más pequeño.\n"
     ]
    }
   ],
   "source": [
    "# Obtenemos los tamaños de los archivos en bytes y los convertimos a KB\n",
    "tamaño_csv_kb = os.path.getsize(nombre_csv) / 1024\n",
    "tamaño_parquet_kb = os.path.getsize(nombre_parquet) / 1024\n",
    "\n",
    "print(f\"Tamaño del archivo CSV: {tamaño_csv_kb:.2f} KB\")\n",
    "print(f\"Tamaño del archivo Parquet: {tamaño_parquet_kb:.2f} KB\")\n",
    "print(f\"El archivo Parquet es un {((tamaño_csv_kb - tamaño_parquet_kb) / tamaño_csv_kb) * 100:.2f}% más pequeño.\")"
   ]
  },
  {
   "cell_type": "markdown",
   "id": "3d5c0a92",
   "metadata": {},
   "source": [
    "## Paso 4: La Magia de la Lectura Selectiva (Column Pruning)\n",
    "\n",
    "Aquí está la ventaja más importante de la estructura columnar de Parquet. Si solo necesitamos analizar algunas columnas, podemos pedírselo explícitamente y el motor solo leerá esos datos del disco, ignorando el resto."
   ]
  },
  {
   "cell_type": "code",
   "execution_count": 25,
   "id": "85b9c6a8",
   "metadata": {},
   "outputs": [
    {
     "name": "stdout",
     "output_type": "stream",
     "text": [
      "Se leyeron solo 3 columnas del archivo Parquet.\n",
      "Mostrando las primeras 5 filas del DataFrame resultante:\n"
     ]
    },
    {
     "data": {
      "text/html": [
       "<div>\n",
       "<style scoped>\n",
       "    .dataframe tbody tr th:only-of-type {\n",
       "        vertical-align: middle;\n",
       "    }\n",
       "\n",
       "    .dataframe tbody tr th {\n",
       "        vertical-align: top;\n",
       "    }\n",
       "\n",
       "    .dataframe thead th {\n",
       "        text-align: right;\n",
       "    }\n",
       "</style>\n",
       "<table border=\"1\" class=\"dataframe\">\n",
       "  <thead>\n",
       "    <tr style=\"text-align: right;\">\n",
       "      <th></th>\n",
       "      <th>Producto</th>\n",
       "      <th>Precio_Unitario</th>\n",
       "      <th>Ciudad</th>\n",
       "    </tr>\n",
       "  </thead>\n",
       "  <tbody>\n",
       "    <tr>\n",
       "      <th>0</th>\n",
       "      <td>Mochila para Laptop</td>\n",
       "      <td>44.82</td>\n",
       "      <td>Madrid</td>\n",
       "    </tr>\n",
       "    <tr>\n",
       "      <th>1</th>\n",
       "      <td>Mochila para Laptop</td>\n",
       "      <td>47.67</td>\n",
       "      <td>Valencia</td>\n",
       "    </tr>\n",
       "    <tr>\n",
       "      <th>2</th>\n",
       "      <td>Laptop Pro X1</td>\n",
       "      <td>1253.10</td>\n",
       "      <td>Sevilla</td>\n",
       "    </tr>\n",
       "    <tr>\n",
       "      <th>3</th>\n",
       "      <td>Mochila para Laptop</td>\n",
       "      <td>46.27</td>\n",
       "      <td>Valencia</td>\n",
       "    </tr>\n",
       "    <tr>\n",
       "      <th>4</th>\n",
       "      <td>Mochila para Laptop</td>\n",
       "      <td>46.69</td>\n",
       "      <td>Zaragoza</td>\n",
       "    </tr>\n",
       "  </tbody>\n",
       "</table>\n",
       "</div>"
      ],
      "text/plain": [
       "              Producto  Precio_Unitario    Ciudad\n",
       "0  Mochila para Laptop            44.82    Madrid\n",
       "1  Mochila para Laptop            47.67  Valencia\n",
       "2        Laptop Pro X1          1253.10   Sevilla\n",
       "3  Mochila para Laptop            46.27  Valencia\n",
       "4  Mochila para Laptop            46.69  Zaragoza"
      ]
     },
     "execution_count": 25,
     "metadata": {},
     "output_type": "execute_result"
    }
   ],
   "source": [
    "# Definimos las columnas que nos interesan\n",
    "columnas_deseadas = ['Producto', 'Precio_Unitario', 'Ciudad']\n",
    "\n",
    "# Leemos SOLO esas columnas desde el archivo Parquet\n",
    "df_selectivo = pd.read_parquet(nombre_parquet, columns=columnas_deseadas)\n",
    "\n",
    "print(f\"Se leyeron solo {len(columnas_deseadas)} columnas del archivo Parquet.\")\n",
    "print(\"Mostrando las primeras 5 filas del DataFrame resultante:\")\n",
    "df_selectivo.head()"
   ]
  },
  {
   "cell_type": "markdown",
   "id": "a6ef21a2",
   "metadata": {},
   "source": [
    "## Paso 5: ¿Y podemos hacer lectura selectiva en un CSV?\n",
    "\n",
    "Ahora que sabemos que Parquet es eficiente, surge una pregunta: ¿podemos lograr el mismo efecto de leer solo unas pocas columnas directamente desde nuestro archivo CSV original? Vamos a intentarlo."
   ]
  },
  {
   "cell_type": "code",
   "execution_count": 24,
   "id": "9bbd3097",
   "metadata": {},
   "outputs": [
    {
     "name": "stdout",
     "output_type": "stream",
     "text": [
      "Pidiendo a Pandas que lea solo las columnas: ['Producto', 'Precio_Unitario', 'Ciudad'] desde el CSV...\n",
      "\n",
      "¡Lectura completada! Mostrando las primeras 5 filas del resultado:\n"
     ]
    },
    {
     "data": {
      "text/html": [
       "<div>\n",
       "<style scoped>\n",
       "    .dataframe tbody tr th:only-of-type {\n",
       "        vertical-align: middle;\n",
       "    }\n",
       "\n",
       "    .dataframe tbody tr th {\n",
       "        vertical-align: top;\n",
       "    }\n",
       "\n",
       "    .dataframe thead th {\n",
       "        text-align: right;\n",
       "    }\n",
       "</style>\n",
       "<table border=\"1\" class=\"dataframe\">\n",
       "  <thead>\n",
       "    <tr style=\"text-align: right;\">\n",
       "      <th></th>\n",
       "      <th>Producto</th>\n",
       "      <th>Precio_Unitario</th>\n",
       "      <th>Ciudad</th>\n",
       "    </tr>\n",
       "  </thead>\n",
       "  <tbody>\n",
       "    <tr>\n",
       "      <th>0</th>\n",
       "      <td>Mochila para Laptop</td>\n",
       "      <td>44.82</td>\n",
       "      <td>Madrid</td>\n",
       "    </tr>\n",
       "    <tr>\n",
       "      <th>1</th>\n",
       "      <td>Mochila para Laptop</td>\n",
       "      <td>47.67</td>\n",
       "      <td>Valencia</td>\n",
       "    </tr>\n",
       "    <tr>\n",
       "      <th>2</th>\n",
       "      <td>Laptop Pro X1</td>\n",
       "      <td>1253.10</td>\n",
       "      <td>Sevilla</td>\n",
       "    </tr>\n",
       "    <tr>\n",
       "      <th>3</th>\n",
       "      <td>Mochila para Laptop</td>\n",
       "      <td>46.27</td>\n",
       "      <td>Valencia</td>\n",
       "    </tr>\n",
       "    <tr>\n",
       "      <th>4</th>\n",
       "      <td>Mochila para Laptop</td>\n",
       "      <td>46.69</td>\n",
       "      <td>Zaragoza</td>\n",
       "    </tr>\n",
       "  </tbody>\n",
       "</table>\n",
       "</div>"
      ],
      "text/plain": [
       "              Producto  Precio_Unitario    Ciudad\n",
       "0  Mochila para Laptop            44.82    Madrid\n",
       "1  Mochila para Laptop            47.67  Valencia\n",
       "2        Laptop Pro X1          1253.10   Sevilla\n",
       "3  Mochila para Laptop            46.27  Valencia\n",
       "4  Mochila para Laptop            46.69  Zaragoza"
      ]
     },
     "execution_count": 24,
     "metadata": {},
     "output_type": "execute_result"
    }
   ],
   "source": [
    "# Definimos las mismas columnas que queremos\n",
    "columnas_deseadas = ['Producto', 'Precio_Unitario', 'Ciudad']\n",
    "\n",
    "# Intentamos leer solo esas columnas desde el archivo CSV\n",
    "print(f\"Pidiendo a Pandas que lea solo las columnas: {columnas_deseadas} desde el CSV...\")\n",
    "df_csv_selectivo = pd.read_csv(nombre_csv, usecols=columnas_deseadas)\n",
    "\n",
    "print(\"\\n¡Lectura completada! Mostrando las primeras 5 filas del resultado:\")\n",
    "df_csv_selectivo.head()"
   ]
  },
  {
   "cell_type": "markdown",
   "id": "5905296f",
   "metadata": {},
   "source": [
    "### La Diferencia Fundamental (Lo que no se ve)\n",
    "\n",
    "Como vemos, ¡el resultado es el mismo! Pandas nos devolvió un DataFrame solo con las columnas que pedimos. Entonces, ¿dónde está la ventaja de Parquet?\n",
    "\n",
    "La diferencia clave está en **CÓMO** se obtuvieron esos datos:\n",
    "\n",
    "*   **Para el CSV:** Debido a su estructura basada en filas, `pandas` (y cualquier otra herramienta) **debe leer y procesar el archivo completo línea por línea** para encontrar las columnas que necesita. Carga todo en memoria y *luego* descarta las columnas que no le pedimos. Para archivos pequeños, esto es instantáneo. Para un archivo de 100 GB, tendría que leer los 100 GB del disco, lo cual sería extremadamente lento.\n",
    "\n",
    "*   **Para el Parquet:** Como vimos antes, su estructura columnar permite a la herramienta **ir directamente a los bloques de datos de las columnas específicas en el disco**, ignorando por completo el resto. Para un archivo de 100 GB, si las columnas que queremos solo ocupan 5 GB, solo se leen esos 5 GB del disco.\n",
    "\n",
    "**Esta es la diferencia entre \"filtrar después de cargar todo\" (CSV) y \"cargar solo lo que se necesita\" (Parquet).**"
   ]
  }
 ],
 "metadata": {
  "kernelspec": {
   "display_name": ".venv",
   "language": "python",
   "name": "python3"
  },
  "language_info": {
   "codemirror_mode": {
    "name": "ipython",
    "version": 3
   },
   "file_extension": ".py",
   "mimetype": "text/x-python",
   "name": "python",
   "nbconvert_exporter": "python",
   "pygments_lexer": "ipython3",
   "version": "3.10.11"
  }
 },
 "nbformat": 4,
 "nbformat_minor": 5
}
